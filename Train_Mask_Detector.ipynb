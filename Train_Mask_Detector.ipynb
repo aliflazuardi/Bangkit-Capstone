{
  "nbformat": 4,
  "nbformat_minor": 0,
  "metadata": {
    "colab": {
      "name": "Train_Mask_Detector.ipynb",
      "provenance": [],
      "collapsed_sections": [],
      "authorship_tag": "ABX9TyMO291NG9/aLuqN35+FpMmg",
      "include_colab_link": true
    },
    "kernelspec": {
      "name": "python3",
      "display_name": "Python 3"
    },
    "language_info": {
      "name": "python"
    },
    "accelerator": "GPU"
  },
  "cells": [
    {
      "cell_type": "markdown",
      "metadata": {
        "id": "view-in-github",
        "colab_type": "text"
      },
      "source": [
        "<a href=\"https://colab.research.google.com/github/aliflazuardi/Bangkit-Capstone/blob/main/Train_Mask_Detector.ipynb\" target=\"_parent\"><img src=\"https://colab.research.google.com/assets/colab-badge.svg\" alt=\"Open In Colab\"/></a>"
      ]
    },
    {
      "cell_type": "markdown",
      "metadata": {
        "id": "Oa8eyFzrfW47"
      },
      "source": [
        "# Face Mask Detector Jupyter Notebook for training Model\n",
        "\n",
        "This notebook used to train the Machine Learning model for Face Mask Detector"
      ]
    },
    {
      "cell_type": "markdown",
      "metadata": {
        "id": "VAWrHj3KfnTc"
      },
      "source": [
        "**Import Depedencies** "
      ]
    },
    {
      "cell_type": "code",
      "metadata": {
        "id": "6Lye43maeOkJ"
      },
      "source": [
        "from tensorflow.keras.preprocessing.image import ImageDataGenerator\n",
        "from tensorflow.keras.applications import MobileNetV2\n",
        "from tensorflow.keras.layers import AveragePooling2D\n",
        "from tensorflow.keras.layers import Dropout\n",
        "from tensorflow.keras.layers import Flatten\n",
        "from tensorflow.keras.layers import Dense\n",
        "from tensorflow.keras.layers import Input\n",
        "from tensorflow.keras.models import Model\n",
        "from tensorflow.keras.optimizers import Adam\n",
        "from tensorflow.keras.applications.mobilenet_v2 import preprocess_input\n",
        "from tensorflow.keras.preprocessing.image import img_to_array\n",
        "from tensorflow.keras.preprocessing.image import load_img\n",
        "from tensorflow.keras.utils import to_categorical\n",
        "from sklearn.preprocessing import LabelBinarizer\n",
        "from sklearn.model_selection import train_test_split\n",
        "from sklearn.metrics import classification_report\n",
        "from imutils import paths\n",
        "import matplotlib.pyplot as plt\n",
        "import numpy as np\n",
        "import os"
      ],
      "execution_count": null,
      "outputs": []
    },
    {
      "cell_type": "markdown",
      "metadata": {
        "id": "KDa_rcY1oUA4"
      },
      "source": [
        "**Import Dataset at GDrive**"
      ]
    },
    {
      "cell_type": "code",
      "metadata": {
        "colab": {
          "base_uri": "https://localhost:8080/"
        },
        "id": "V4Z7wp29oW7s",
        "outputId": "a6ceda5f-803f-4b8f-c743-06daba1a7f39"
      },
      "source": [
        "from google.colab import drive\n",
        "drive.mount('/content/gdrive')"
      ],
      "execution_count": null,
      "outputs": [
        {
          "output_type": "stream",
          "text": [
            "Mounted at /content/gdrive\n"
          ],
          "name": "stdout"
        }
      ]
    },
    {
      "cell_type": "markdown",
      "metadata": {
        "id": "tGApzwbsfsbX"
      },
      "source": [
        "**Set Working Directory**"
      ]
    },
    {
      "cell_type": "code",
      "metadata": {
        "id": "DhejLbZjf7wt"
      },
      "source": [
        "DIRECTORY = os.getcwd()\n",
        "PATH = 'gdrive/MyDrive/dataset'\n",
        "DIRECTORY = os.path.join(DIRECTORY, PATH)\n",
        "CATEGORIES = [\"with_mask\", \"without_mask\"]"
      ],
      "execution_count": null,
      "outputs": []
    },
    {
      "cell_type": "markdown",
      "metadata": {
        "id": "AjB7y4KegVvg"
      },
      "source": [
        "**Load all dataset to list of data and labels**"
      ]
    },
    {
      "cell_type": "code",
      "metadata": {
        "colab": {
          "base_uri": "https://localhost:8080/"
        },
        "id": "7N-3vS3nqK6g",
        "outputId": "86b3b438-2f99-4f27-df87-65556b49354b"
      },
      "source": [
        "data = []\n",
        "labels = []\n",
        "\n",
        "for category in CATEGORIES:\n",
        "  path = os.path.join(DIRECTORY, category)\n",
        "  for img in os.listdir(path):\n",
        "    img_path = os.path.join(path, img)\n",
        "    image = load_img(img_path, target_size=(224, 224))\n",
        "    image = img_to_array(image)\n",
        "    image = preprocess_input(image)\n",
        "\n",
        "    data.append(image)\n",
        "    labels.append(category)"
      ],
      "execution_count": null,
      "outputs": [
        {
          "output_type": "stream",
          "text": [
            "/usr/local/lib/python3.7/dist-packages/PIL/Image.py:960: UserWarning: Palette images with Transparency expressed in bytes should be converted to RGBA images\n",
            "  \"Palette images with Transparency expressed in bytes should be \"\n"
          ],
          "name": "stderr"
        }
      ]
    },
    {
      "cell_type": "markdown",
      "metadata": {
        "id": "sDCCdfN7qPuu"
      },
      "source": [
        "**One Hot Encoding for the labels**"
      ]
    },
    {
      "cell_type": "code",
      "metadata": {
        "id": "GKYHMRdbqSqW"
      },
      "source": [
        "lb = LabelBinarizer()\n",
        "labels = lb.fit_transform(labels)\n",
        "labels = to_categorical(labels)"
      ],
      "execution_count": null,
      "outputs": []
    },
    {
      "cell_type": "markdown",
      "metadata": {
        "id": "JDbAUaJzrW3r"
      },
      "source": [
        "**Initialize learning rate, epochs number, and batch size**"
      ]
    },
    {
      "cell_type": "code",
      "metadata": {
        "id": "IpPr3ow6rfdi"
      },
      "source": [
        "INIT_LR = 1e-4\n",
        "EPOCHS = 20\n",
        "BS = 32"
      ],
      "execution_count": null,
      "outputs": []
    },
    {
      "cell_type": "markdown",
      "metadata": {
        "id": "Al7jpEv1rhaQ"
      },
      "source": [
        "**Set up data for training preparation**"
      ]
    },
    {
      "cell_type": "code",
      "metadata": {
        "id": "mVKbFNc3ryoL"
      },
      "source": [
        "data = np.array(data, dtype=\"float32\")\n",
        "labels = np.array(labels)\n",
        "\n",
        "(trainX, testX, trainY, testY) = train_test_split(data, labels, test_size=0.20, stratify=labels, random_state=42)"
      ],
      "execution_count": null,
      "outputs": []
    },
    {
      "cell_type": "markdown",
      "metadata": {
        "id": "TJLnehngy7En"
      },
      "source": [
        "**Construct the training image generator for data augmentation**"
      ]
    },
    {
      "cell_type": "code",
      "metadata": {
        "id": "GhI3CdJPy_C2"
      },
      "source": [
        "aug = ImageDataGenerator(\n",
        "\trotation_range=20,\n",
        "\tzoom_range=0.15,\n",
        "\twidth_shift_range=0.2,\n",
        "\theight_shift_range=0.2,\n",
        "\tshear_range=0.15,\n",
        "\thorizontal_flip=True,\n",
        "\tfill_mode=\"nearest\")"
      ],
      "execution_count": null,
      "outputs": []
    },
    {
      "cell_type": "markdown",
      "metadata": {
        "id": "CMBtwJ1IzPs2"
      },
      "source": [
        "**Load MobileNetV2 as Basemodel**"
      ]
    },
    {
      "cell_type": "code",
      "metadata": {
        "colab": {
          "base_uri": "https://localhost:8080/"
        },
        "id": "jkqgP9IazTqb",
        "outputId": "c58de91c-aaea-4459-d419-327f1b27acd6"
      },
      "source": [
        "baseModel = MobileNetV2(weights=\"imagenet\", include_top=False,\n",
        "\tinput_tensor=Input(shape=(224, 224, 3)))"
      ],
      "execution_count": null,
      "outputs": [
        {
          "output_type": "stream",
          "text": [
            "WARNING:tensorflow:`input_shape` is undefined or non-square, or `rows` is not in [96, 128, 160, 192, 224]. Weights for input shape (224, 224) will be loaded as the default.\n",
            "Downloading data from https://storage.googleapis.com/tensorflow/keras-applications/mobilenet_v2/mobilenet_v2_weights_tf_dim_ordering_tf_kernels_1.0_224_no_top.h5\n",
            "9412608/9406464 [==============================] - 0s 0us/step\n"
          ],
          "name": "stdout"
        }
      ]
    },
    {
      "cell_type": "markdown",
      "metadata": {
        "id": "PvGB0LjSzV0o"
      },
      "source": [
        "**Setup the Headmodel (Model on top of basemodel)**"
      ]
    },
    {
      "cell_type": "code",
      "metadata": {
        "id": "n7bzBdvY1yWI"
      },
      "source": [
        "headModel = baseModel.output\n",
        "headModel = AveragePooling2D(pool_size=(7, 7))(headModel)\n",
        "headModel = Flatten(name=\"flatten\")(headModel)\n",
        "headModel = Dense(128, activation=\"relu\")(headModel)\n",
        "headModel = Dropout(0.5)(headModel)\n",
        "headModel = Dense(2, activation=\"softmax\")(headModel)"
      ],
      "execution_count": null,
      "outputs": []
    },
    {
      "cell_type": "markdown",
      "metadata": {
        "id": "Z4BeNzDi15Zp"
      },
      "source": [
        "**Place the headmodel on top of basemodel and freeze the layers basemodel**"
      ]
    },
    {
      "cell_type": "code",
      "metadata": {
        "id": "oyIH75Jt2CYR"
      },
      "source": [
        "model = Model(inputs=baseModel.input, outputs=headModel)\n",
        "\n",
        "for layer in baseModel.layers:\n",
        "\tlayer.trainable = False"
      ],
      "execution_count": null,
      "outputs": []
    },
    {
      "cell_type": "markdown",
      "metadata": {
        "id": "FetaSXgt2MZ7"
      },
      "source": [
        "**Compile the model**"
      ]
    },
    {
      "cell_type": "code",
      "metadata": {
        "colab": {
          "base_uri": "https://localhost:8080/"
        },
        "id": "6Ozjj8jD2T21",
        "outputId": "1dfad8d5-72bf-445c-e93b-011170305570"
      },
      "source": [
        "opt = Adam(lr=INIT_LR, decay=INIT_LR / EPOCHS)\n",
        "model.compile(loss=\"binary_crossentropy\", optimizer=opt, metrics=[\"accuracy\"])"
      ],
      "execution_count": null,
      "outputs": [
        {
          "output_type": "stream",
          "text": [
            "/usr/local/lib/python3.7/dist-packages/tensorflow/python/keras/optimizer_v2/optimizer_v2.py:375: UserWarning: The `lr` argument is deprecated, use `learning_rate` instead.\n",
            "  \"The `lr` argument is deprecated, use `learning_rate` instead.\")\n"
          ],
          "name": "stderr"
        }
      ]
    },
    {
      "cell_type": "markdown",
      "metadata": {
        "id": "JWrcUW-a2lbT"
      },
      "source": [
        "**Train the model**"
      ]
    },
    {
      "cell_type": "code",
      "metadata": {
        "colab": {
          "base_uri": "https://localhost:8080/"
        },
        "id": "itg1NCDG2oAS",
        "outputId": "5ba09c5a-7e77-446d-b1ee-f30e4addfc68"
      },
      "source": [
        "H = model.fit(\n",
        "\taug.flow(trainX, trainY, batch_size=BS),\n",
        "\tsteps_per_epoch=len(trainX) // BS,\n",
        "\tvalidation_data=(testX, testY),\n",
        "\tvalidation_steps=len(testX) // BS,\n",
        "\tepochs=EPOCHS)"
      ],
      "execution_count": null,
      "outputs": [
        {
          "output_type": "stream",
          "text": [
            "Epoch 1/20\n",
            "95/95 [==============================] - 69s 386ms/step - loss: 0.4009 - accuracy: 0.8494 - val_loss: 0.1594 - val_accuracy: 0.9791\n",
            "Epoch 2/20\n",
            "95/95 [==============================] - 35s 367ms/step - loss: 0.1520 - accuracy: 0.9647 - val_loss: 0.0875 - val_accuracy: 0.9817\n",
            "Epoch 3/20\n",
            "95/95 [==============================] - 35s 368ms/step - loss: 0.0988 - accuracy: 0.9743 - val_loss: 0.0644 - val_accuracy: 0.9896\n",
            "Epoch 4/20\n",
            "95/95 [==============================] - 35s 368ms/step - loss: 0.0764 - accuracy: 0.9792 - val_loss: 0.0519 - val_accuracy: 0.9883\n",
            "Epoch 5/20\n",
            "95/95 [==============================] - 35s 368ms/step - loss: 0.0688 - accuracy: 0.9802 - val_loss: 0.0471 - val_accuracy: 0.9870\n",
            "Epoch 6/20\n",
            "95/95 [==============================] - 35s 365ms/step - loss: 0.0644 - accuracy: 0.9819 - val_loss: 0.0405 - val_accuracy: 0.9909\n",
            "Epoch 7/20\n",
            "95/95 [==============================] - 35s 365ms/step - loss: 0.0574 - accuracy: 0.9845 - val_loss: 0.0373 - val_accuracy: 0.9909\n",
            "Epoch 8/20\n",
            "95/95 [==============================] - 35s 367ms/step - loss: 0.0454 - accuracy: 0.9871 - val_loss: 0.0349 - val_accuracy: 0.9909\n",
            "Epoch 9/20\n",
            "95/95 [==============================] - 35s 370ms/step - loss: 0.0420 - accuracy: 0.9871 - val_loss: 0.0374 - val_accuracy: 0.9883\n",
            "Epoch 10/20\n",
            "95/95 [==============================] - 36s 374ms/step - loss: 0.0408 - accuracy: 0.9888 - val_loss: 0.0324 - val_accuracy: 0.9909\n",
            "Epoch 11/20\n",
            "95/95 [==============================] - 35s 370ms/step - loss: 0.0365 - accuracy: 0.9878 - val_loss: 0.0310 - val_accuracy: 0.9922\n",
            "Epoch 12/20\n",
            "95/95 [==============================] - 35s 371ms/step - loss: 0.0329 - accuracy: 0.9891 - val_loss: 0.0286 - val_accuracy: 0.9961\n",
            "Epoch 13/20\n",
            "95/95 [==============================] - 35s 371ms/step - loss: 0.0339 - accuracy: 0.9898 - val_loss: 0.0277 - val_accuracy: 0.9935\n",
            "Epoch 14/20\n",
            "95/95 [==============================] - 35s 370ms/step - loss: 0.0307 - accuracy: 0.9924 - val_loss: 0.0267 - val_accuracy: 0.9935\n",
            "Epoch 15/20\n",
            "95/95 [==============================] - 36s 374ms/step - loss: 0.0334 - accuracy: 0.9914 - val_loss: 0.0289 - val_accuracy: 0.9909\n",
            "Epoch 16/20\n",
            "95/95 [==============================] - 36s 376ms/step - loss: 0.0377 - accuracy: 0.9885 - val_loss: 0.0299 - val_accuracy: 0.9922\n",
            "Epoch 17/20\n",
            "95/95 [==============================] - 36s 377ms/step - loss: 0.0264 - accuracy: 0.9924 - val_loss: 0.0326 - val_accuracy: 0.9883\n",
            "Epoch 18/20\n",
            "95/95 [==============================] - 37s 386ms/step - loss: 0.0279 - accuracy: 0.9927 - val_loss: 0.0264 - val_accuracy: 0.9935\n",
            "Epoch 19/20\n",
            "95/95 [==============================] - 37s 389ms/step - loss: 0.0281 - accuracy: 0.9918 - val_loss: 0.0271 - val_accuracy: 0.9935\n",
            "Epoch 20/20\n",
            "95/95 [==============================] - 37s 394ms/step - loss: 0.0272 - accuracy: 0.9918 - val_loss: 0.0243 - val_accuracy: 0.9961\n"
          ],
          "name": "stdout"
        }
      ]
    },
    {
      "cell_type": "markdown",
      "metadata": {
        "id": "MCNGXF1d2zfp"
      },
      "source": [
        "**Evaluating performance in the test dataset**"
      ]
    },
    {
      "cell_type": "code",
      "metadata": {
        "colab": {
          "base_uri": "https://localhost:8080/"
        },
        "id": "rsINnx9I22kE",
        "outputId": "c653b44a-b19f-45d1-f2a6-1703c1e6c939"
      },
      "source": [
        "predIdxs = model.predict(testX, batch_size=BS)\n",
        "\n",
        "predIdxs = np.argmax(predIdxs, axis=1)\n",
        "\n",
        "print(classification_report(testY.argmax(axis=1), predIdxs,target_names=lb.classes_))"
      ],
      "execution_count": null,
      "outputs": [
        {
          "output_type": "stream",
          "text": [
            "              precision    recall  f1-score   support\n",
            "\n",
            "   with_mask       0.99      1.00      1.00       383\n",
            "without_mask       1.00      0.99      1.00       384\n",
            "\n",
            "    accuracy                           1.00       767\n",
            "   macro avg       1.00      1.00      1.00       767\n",
            "weighted avg       1.00      1.00      1.00       767\n",
            "\n"
          ],
          "name": "stdout"
        }
      ]
    },
    {
      "cell_type": "markdown",
      "metadata": {
        "id": "mgW0T8iX3COQ"
      },
      "source": [
        "**Saving the model in h5 format**"
      ]
    },
    {
      "cell_type": "code",
      "metadata": {
        "colab": {
          "base_uri": "https://localhost:8080/"
        },
        "id": "1m-MztTj3FSV",
        "outputId": "cc79b7c2-e951-44fb-be17-1e0d80f53036"
      },
      "source": [
        "model.save(\"mask_detector.h5\", save_format=\"h5\")"
      ],
      "execution_count": null,
      "outputs": [
        {
          "output_type": "stream",
          "text": [
            "/usr/local/lib/python3.7/dist-packages/tensorflow/python/keras/utils/generic_utils.py:497: CustomMaskWarning: Custom mask layers require a config and must override get_config. When loading, the custom mask layer must be passed to the custom_objects argument.\n",
            "  category=CustomMaskWarning)\n"
          ],
          "name": "stderr"
        }
      ]
    },
    {
      "cell_type": "markdown",
      "metadata": {
        "id": "6oY8tzJH3Hq5"
      },
      "source": [
        "**Plot the metrics**"
      ]
    },
    {
      "cell_type": "code",
      "metadata": {
        "colab": {
          "base_uri": "https://localhost:8080/"
        },
        "id": "eNHF55Bh3KHJ",
        "outputId": "94f41fc4-48b5-40e7-b0f3-6f44d63584b5"
      },
      "source": [
        "N = EPOCHS\n",
        "plt.style.use(\"ggplot\")\n",
        "plt.figure()\n",
        "plt.plot(np.arange(0, N), H.history[\"loss\"], label=\"train_loss\")\n",
        "plt.plot(np.arange(0, N), H.history[\"val_loss\"], label=\"val_loss\")\n",
        "plt.plot(np.arange(0, N), H.history[\"accuracy\"], label=\"train_acc\")\n",
        "plt.plot(np.arange(0, N), H.history[\"val_accuracy\"], label=\"val_acc\")\n",
        "plt.title(\"Training Loss and Accuracy\")\n",
        "plt.xlabel(\"Epoch #\")\n",
        "plt.ylabel(\"Loss/Accuracy\")\n",
        "plt.legend(loc=\"lower left\")\n",
        "plt.show()\n",
        "# plt.savefig(\"plot.png\")"
      ],
      "execution_count": null,
      "outputs": [
        {
          "output_type": "display_data",
          "data": {
            "image/png": "[encoded data removed]",
            "text/plain": [
              "<Figure size 432x288 with 1 Axes>"
            ]
          },
          "metadata": {
            "tags": []
          }
        }
      ]
    }
  ]
}